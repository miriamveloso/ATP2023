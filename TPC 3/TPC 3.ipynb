{
 "cells": [
  {
   "cell_type": "code",
   "execution_count": 2,
   "metadata": {},
   "outputs": [
    {
     "name": "stdout",
     "output_type": "stream",
     "text": [
      "3 tentativas\n"
     ]
    }
   ],
   "source": [
    "# TPC 3\n",
    "\n",
    "import random\n",
    "modo = input (\"Escolhe quem vai adivinhar o número: jogador/computador?\")\n",
    "\n",
    "if modo == \"computador\":\n",
    "    \n",
    "    min = 0\n",
    "    max = 100\n",
    "    guess = random.randint(min,max)\n",
    "\n",
    "    resposta = input ((\"O seu número é\",guess,\"? sim/maior/menor\"))\n",
    "\n",
    "    N = 1\n",
    "    while resposta == \"maior\" or resposta ==\"menor\":\n",
    "        if resposta == \"maior\":\n",
    "            min = guess\n",
    "            guess = random.randrange((min+1),max)\n",
    "            resposta = input ((\"O seu número é\",guess,\"? sim/maior/menor\"))\n",
    "            N = N + 1\n",
    "        \n",
    "        if resposta == \"menor\":\n",
    "            max = guess\n",
    "            guess = random.randrange(min,(max-1))\n",
    "            resposta = input ((\"O seu número é\",guess,\"? sim/maior/menor\"))\n",
    "            N = N + 1\n",
    "\n",
    "    print (N,\"tentativas\")\n",
    "\n",
    "\n",
    "if modo == \"jogador\":\n",
    "\n",
    "    num = random.randint(0,100)\n",
    "\n",
    "    guess = int(input(\"Insira o número que acha que é\"))\n",
    "\n",
    "    N = 1\n",
    "    while guess < num or guess > num:\n",
    "        if guess < num:\n",
    "            guess = int(input(\"O número é maior. Digita outro valor\"))\n",
    "            N = N + 1\n",
    "        \n",
    "        if guess > num:\n",
    "            guess = int(input(\"O número é menor. Digita outro valor\"))\n",
    "            N = N + 1\n",
    "    \n",
    "    print (N,\"tentativas\")\n"
   ]
  }
 ],
 "metadata": {
  "kernelspec": {
   "display_name": "Python 3",
   "language": "python",
   "name": "python3"
  },
  "language_info": {
   "codemirror_mode": {
    "name": "ipython",
    "version": 3
   },
   "file_extension": ".py",
   "mimetype": "text/x-python",
   "name": "python",
   "nbconvert_exporter": "python",
   "pygments_lexer": "ipython3",
   "version": "3.11.3"
  },
  "orig_nbformat": 4
 },
 "nbformat": 4,
 "nbformat_minor": 2
}
